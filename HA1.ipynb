{
 "cells": [
  {
   "cell_type": "code",
   "execution_count": 10,
   "metadata": {},
   "outputs": [
    {
     "name": "stdout",
     "output_type": "stream",
     "text": [
      "IFR\n",
      "4.196316143957364%\n",
      "CMR\n",
      "52.8294930875576 deaths per 10000 population in Mumbai\n",
      "District: Mumbai\n",
      "Population: 1085000\n",
      "Infected: 136596\n",
      "Recovered: 67890\n",
      "Deaths: 5732\n"
     ]
    }
   ],
   "source": [
    "district=\"Mumbai\"\n",
    "population=1085000\n",
    "infected=136596     \n",
    "recovered=67890\n",
    "deaths=5732       \n",
    "\n",
    "def display():\n",
    "    print(\"District: {}\".format(district))\n",
    "    print(\"Population: {}\".format(population))\n",
    "    print(\"Infected: {}\".format(infected))\n",
    "    print(\"Recovered: {}\".format(recovered))\n",
    "    print(\"Deaths: {}\".format(deaths))\n",
    "\n",
    "def ifr(deaths,infected):   \n",
    "    ifr=(deaths/infected)*100\n",
    "    print(\"IFR\")\n",
    "    print(\"{}%\".format(ifr))\n",
    "\n",
    "    \n",
    "    \n",
    "    \n",
    "def cmr(deaths,population):    \n",
    "    cmr=(deaths/population)*10000\n",
    "    print(\"CMR\")\n",
    "    print(\"{} deaths per 10000 population in Mumbai\".format(cmr))\n",
    "    \n",
    "    \n",
    "    \n",
    "    display()\n",
    "ifr(deaths,infected)\n",
    "cmr(deaths,population)"
   ]
  },
  {
   "cell_type": "code",
   "execution_count": null,
   "metadata": {},
   "outputs": [],
   "source": []
  }
 ],
 "metadata": {
  "kernelspec": {
   "display_name": "Python 3",
   "language": "python",
   "name": "python3"
  },
  "language_info": {
   "codemirror_mode": {
    "name": "ipython",
    "version": 3
   },
   "file_extension": ".py",
   "mimetype": "text/x-python",
   "name": "python",
   "nbconvert_exporter": "python",
   "pygments_lexer": "ipython3",
   "version": "3.7.6"
  }
 },
 "nbformat": 4,
 "nbformat_minor": 4
}
