{
 "cells": [
  {
   "cell_type": "code",
   "execution_count": 4,
   "metadata": {},
   "outputs": [],
   "source": [
    "district=\"Gwalior\"\n",
    "infected_till_date = 1234\n",
    "infected_on_10_6_2020 = 12\n",
    "infected_on_11_6_2020 = 2\n",
    "infected_on_12_6_2020 = 13\n",
    "percentage_change_in_last_3_days = ((infected_on_12_6_2020-infected_on_10_6_2020)/infected_on_12_6_2020)*100"
   ]
  },
  {
   "cell_type": "code",
   "execution_count": 5,
   "metadata": {},
   "outputs": [
    {
     "name": "stdout",
     "output_type": "stream",
     "text": [
      "District =  Gwalior\n",
      "infected till date =  1234\n",
      "infected on 10 jure 2020 =  12\n",
      "infected on 11 june 2020 =  2\n",
      "infected on 12 june 2020 =  13\n",
      "percentage change in the infected given 3 days =  7.6923076923076925\n"
     ]
    }
   ],
   "source": [
    "print(\"District = \",district)\n",
    "print(\"infected till date = \",infected_till_date)\n",
    "print(\"infected on 10 jure 2020 = \",infected_on_10_6_2020)\n",
    "print(\"infected on 11 june 2020 = \",infected_on_11_6_2020)\n",
    "print(\"infected on 12 june 2020 = \",infected_on_12_6_2020)\n",
    "print(\"percentage change in the infected given 3 days = \",percentage_change_in_last_3_days)"
   ]
  },
  {
   "cell_type": "code",
   "execution_count": null,
   "metadata": {},
   "outputs": [],
   "source": []
  }
 ],
 "metadata": {
  "kernelspec": {
   "display_name": "Python 3",
   "language": "python",
   "name": "python3"
  },
  "language_info": {
   "codemirror_mode": {
    "name": "ipython",
    "version": 3
   },
   "file_extension": ".py",
   "mimetype": "text/x-python",
   "name": "python",
   "nbconvert_exporter": "python",
   "pygments_lexer": "ipython3",
   "version": "3.7.6"
  }
 },
 "nbformat": 4,
 "nbformat_minor": 4
}
