{
 "cells": [
  {
   "cell_type": "code",
   "execution_count": 9,
   "metadata": {},
   "outputs": [
    {
     "name": "stdout",
     "output_type": "stream",
     "text": [
      "Infected COVID19 cases:\n",
      "bihar: 11700\n",
      "assam: 10668\n",
      "kerala: 6109\n",
      "punjab: 5204\n",
      "goa: 1684\n"
     ]
    }
   ],
   "source": [
    "list1=[\"bihar\",\"assam\",\"kerala\",\"punjab\",\"goa\"]\n",
    "list2=[11700,10668,6109,5204,1684]\n",
    "print(\"Infected COVID19 cases:\")\n",
    "for c in range(len(list1)):\n",
    " print(list1[c]+\": \"+str(list2[c]))"
   ]
  },
  {
   "cell_type": "code",
   "execution_count": 12,
   "metadata": {},
   "outputs": [
    {
     "name": "stdout",
     "output_type": "stream",
     "text": [
      "active COVID19 cases:\n",
      "bihar: 2925\n",
      "assam: 3997\n",
      "kerala: 2131\n",
      "punjab: 1641\n",
      "goa: 853\n"
     ]
    }
   ],
   "source": [
    "tuple1=(\"bihar\",\"assam\",\"kerala\",\"punjab\",\"goa\")\n",
    "tuple2=[2925,3997,2131,1641,853]\n",
    "print(\"active COVID19 cases:\")\n",
    "for c in range(len(tuple1)):\n",
    " print(tuple1[c]+\": \"+str(tuple2[c]))"
   ]
  },
  {
   "cell_type": "code",
   "execution_count": 11,
   "metadata": {},
   "outputs": [
    {
     "name": "stdout",
     "output_type": "stream",
     "text": [
      "recovered COVID19 cases:\n",
      "bihar :  8686\n",
      "assam :  6657\n",
      "kerala :  3048\n",
      "punjab :  4306\n",
      "goa :  825\n"
     ]
    }
   ],
   "source": [
    "Dictionary={\"bihar\":8686,\"assam\":6657,\"kerala\":3048,\"punjab\":4306,\"goa\":825}\n",
    "print(\"recovered COVID19 cases:\")\n",
    "for keys,values in Dictionary.items():\n",
    " print(keys,\": \",values)"
   ]
  },
  {
   "cell_type": "code",
   "execution_count": null,
   "metadata": {},
   "outputs": [],
   "source": []
  }
 ],
 "metadata": {
  "kernelspec": {
   "display_name": "Python 3",
   "language": "python",
   "name": "python3"
  },
  "language_info": {
   "codemirror_mode": {
    "name": "ipython",
    "version": 3
   },
   "file_extension": ".py",
   "mimetype": "text/x-python",
   "name": "python",
   "nbconvert_exporter": "python",
   "pygments_lexer": "ipython3",
   "version": "3.7.6"
  }
 },
 "nbformat": 4,
 "nbformat_minor": 4
}
